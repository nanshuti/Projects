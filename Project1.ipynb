{
  "nbformat": 4,
  "nbformat_minor": 0,
  "metadata": {
    "colab": {
      "provenance": [],
      "include_colab_link": true
    },
    "kernelspec": {
      "name": "python3",
      "display_name": "Python 3"
    }
  },
  "cells": [
    {
      "cell_type": "markdown",
      "metadata": {
        "id": "view-in-github",
        "colab_type": "text"
      },
      "source": [
        "<a href=\"https://colab.research.google.com/github/nanshuti/Projects/blob/Main/Project1.ipynb\" target=\"_parent\"><img src=\"https://colab.research.google.com/assets/colab-badge.svg\" alt=\"Open In Colab\"/></a>"
      ]
    },
    {
      "cell_type": "markdown",
      "metadata": {
        "id": "F9AOhxuO9Vt7"
      },
      "source": [
        "# Project \\#1\n",
      "cell_type": "markdown",
      "source": [
        "# 1. Problem:\n",
        "State the problem you are trying to solve with this machine learning experiment. Include a description of the data, where you got the data, and what you're trying to predict.."
      ],
      "metadata": {
        "id": "WAD00FUzJweA"
      }
    },
    {
      "cell_type": "markdown",
      "source": [
        "*your answer here*"
      ],
      "metadata": {
        "id": "G1jpZYKEJ1Ao"
      }
    },
    {
      "cell_type": "markdown",
      "source": [
        "# 2. Data Preparation\n",
        "Explain your data preparation. What did you have to do to get your data in shape for your experiments? Why are you certain that you data is clean and prepared for use in your algorithms?"
      ],
      "metadata": {
        "id": "JwzF076lJ3mA"
      }
    },
    {
      "cell_type": "markdown",
      "source": [
        "*your answer here*"
      ],
      "metadata": {
        "id": "81CTRbswJ_XJ"
      }
    },
    {
      "cell_type": "code",
      "source": [
        "# load and preapre your data here:\n",
        "import sklearn\n",
        "import pandas as pd\n",
        "import numpy as np\n",
        "import seaborn as sns\n",
        "from sklearn import tree\n",
        "from sklearn.model_selection import train_test_split, GridSearchCV\n",
        "from sklearn import metrics\n",
        "from sklearn import neighbors\n",
        "from sklearn.neighbors import KNeighborsRegressor\n",
        "from sklearn.metrics import mean_squared_error, r2_score\n",
        "from sklearn.preprocessing import StandardScaler\n",
        "from sklearn.metrics import confusion_matrix\n",
        "\n",
        "from google.colab import drive\n",
        "drive.mount('/content/drive')\n",
        "Data = pd.read_csv('/content/drive/MyDrive/CS167/datasets/student-mat.csv') # change this to match your dataset directory\n",
        "Data.head()\n",
        "#Data.columns\n",
        "#Data.isna().any()"
      ],
      "metadata": {
        "id": "vv2-3tJlKBCd",
        "colab": {
          "base_uri": "https://localhost:8080/",
          "height": 250
        },
        "outputId": "af2756bc-8025-4e58-c9d2-b839de0d6ac3"
      },
      "execution_count": null,
      "outputs": [
        {
          "output_type": "stream",
          "name": "stdout",
          "text": [
            "Mounted at /content/drive\n"
          ]
        },
        {
          "output_type": "execute_result",
          "data": {
            "text/plain": [
              "  school sex  age address famsize Pstatus  Medu  Fedu     Mjob      Fjob  ...  \\\n",
              "0     GP   F   18       U     GT3       A     4     4  at_home   teacher  ...   \n",
              "1     GP   F   17       U     GT3       T     1     1  at_home     other  ...   \n",
              "2     GP   F   15       U     LE3       T     1     1  at_home     other  ...   \n",
              "3     GP   F   15       U     GT3       T     4     2   health  services  ...   \n",
              "4     GP   F   16       U     GT3       T     3     3    other     other  ...   \n",
              "\n",
              "  famrel freetime  goout  Dalc  Walc health absences  G1  G2  G3  \n",
              "0      4        3      4     1     1      3        6   5   6   6  \n",
              "1      5        3      3     1     1      3        4   5   5   6  \n",
              "2      4        3      2     2     3      3       10   7   8  10  \n",
              "3      3        2      2     1     1      5        2  15  14  15  \n",
              "4      4        3      2     1     2      5        4   6  10  10  \n",
              "\n",
              "[5 rows x 33 columns]"
            ],
            "text/html": [
              "\n",
              "  <div id=\"df-c73b573c-f96c-421a-9f72-b21875bec40d\">\n",
              "    <div class=\"colab-df-container\">\n",
              "      <div>\n",
              "<style scoped>\n",
              "    .dataframe tbody tr th:only-of-type {\n",
              "        vertical-align: middle;\n",
              "    }\n",
              "\n",
              "    .dataframe tbody tr th {\n",
              "        vertical-align: top;\n",
              "    }\n",
              "\n",
              "    .dataframe thead th {\n",
              "        text-align: right;\n",
              "    }\n",
              "</style>\n",
              "<table border=\"1\" class=\"dataframe\">\n",
              "  <thead>\n",
              "    <tr style=\"text-align: right;\">\n",
              "      <th></th>\n",
              "      <th>school</th>\n",
              "      <th>sex</th>\n",
              "      <th>age</th>\n",
              "      <th>address</th>\n",
              "      <th>famsize</th>\n",
              "      <th>Pstatus</th>\n",
              "      <th>Medu</th>\n",
              "      <th>Fedu</th>\n",
              "      <th>Mjob</th>\n",
              "      <th>Fjob</th>\n",
              "      <th>...</th>\n",
              "      <th>famrel</th>\n",
              "      <th>freetime</th>\n",
              "      <th>goout</th>\n",
              "      <th>Dalc</th>\n",
              "      <th>Walc</th>\n",
              "      <th>health</th>\n",
              "      <th>absences</th>\n",
              "      <th>G1</th>\n",
              "      <th>G2</th>\n",
              "      <th>G3</th>\n",
              "    </tr>\n",
              "  </thead>\n",
              "  <tbody>\n",
              "    <tr>\n",
              "      <th>0</th>\n",
              "      <td>GP</td>\n",
              "      <td>F</td>\n",
              "      <td>18</td>\n",
              "      <td>U</td>\n",
              "      <td>GT3</td>\n",
              "      <td>A</td>\n",
              "      <td>4</td>\n",
              "      <td>4</td>\n",
              "      <td>at_home</td>\n",
              "      <td>teacher</td>\n",
              "      <td>...</td>\n",
              "      <td>4</td>\n",
              "      <td>3</td>\n",
              "      <td>4</td>\n",
              "      <td>1</td>\n",
              "      <td>1</td>\n",
              "      <td>3</td>\n",
              "      <td>6</td>\n",
              "      <td>5</td>\n",
              "      <td>6</td>\n",
              "      <td>6</td>\n",
              "    </tr>\n",
              "    <tr>\n",
              "      <th>1</th>\n",
              "      <td>GP</td>\n",
              "      <td>F</td>\n",
              "      <td>17</td>\n",
              "      <td>U</td>\n",
              "      <td>GT3</td>\n",
              "      <td>T</td>\n",
              "      <td>1</td>\n",
              "      <td>1</td>\n",
              "      <td>at_home</td>\n",
              "      <td>other</td>\n",
              "      <td>...</td>\n",
              "      <td>5</td>\n",
              "      <td>3</td>\n",
              "      <td>3</td>\n",
              "      <td>1</td>\n",
              "      <td>1</td>\n",
              "      <td>3</td>\n",
              "      <td>4</td>\n",
              "      <td>5</td>\n",
              "      <td>5</td>\n",
              "      <td>6</td>\n",
              "    </tr>\n",
              "    <tr>\n",
              "      <th>2</th>\n",
              "      <td>GP</td>\n",
              "      <td>F</td>\n",
              "      <td>15</td>\n",
              "      <td>U</td>\n",
              "      <td>LE3</td>\n",
              "      <td>T</td>\n",
              "      <td>1</td>\n",
              "      <td>1</td>\n",
              "      <td>at_home</td>\n",
              "      <td>other</td>\n",
              "      <td>...</td>\n",
              "      <td>4</td>\n",
              "      <td>3</td>\n",
              "      <td>2</td>\n",
              "      <td>2</td>\n",
              "      <td>3</td>\n",
              "      <td>3</td>\n",
              "      <td>10</td>\n",
              "      <td>7</td>\n",
              "      <td>8</td>\n",
              "      <td>10</td>\n",
              "    </tr>\n",
              "    <tr>\n",
              "      <th>3</th>\n",
              "      <td>GP</td>\n",
              "      <td>F</td>\n",
              "      <td>15</td>\n",
              "      <td>U</td>\n",
              "      <td>GT3</td>\n",
              "      <td>T</td>\n",
              "      <td>4</td>\n",
              "      <td>2</td>\n",
              "      <td>health</td>\n",
              "      <td>services</td>\n",
              "      <td>...</td>\n",
              "      <td>3</td>\n",
              "      <td>2</td>\n",
              "      <td>2</td>\n",
              "      <td>1</td>\n",
              "      <td>1</td>\n",
              "      <td>5</td>\n",
              "      <td>2</td>\n",
              "      <td>15</td>\n",
              "      <td>14</td>\n",
              "      <td>15</td>\n",
              "    </tr>\n",
              "    <tr>\n",
              "      <th>4</th>\n",
              "      <td>GP</td>\n",
              "      <td>F</td>\n",
              "      <td>16</td>\n",
              "      <td>U</td>\n",
              "      <td>GT3</td>\n",
              "      <td>T</td>\n",
              "      <td>3</td>\n",
              "      <td>3</td>\n",
              "      <td>other</td>\n",
              "      <td>other</td>\n",
              "      <td>...</td>\n",
              "      <td>4</td>\n",
              "      <td>3</td>\n",
              "      <td>2</td>\n",
              "      <td>1</td>\n",
              "      <td>2</td>\n",
              "      <td>5</td>\n",
              "      <td>4</td>\n",
              "      <td>6</td>\n",
              "      <td>10</td>\n",
              "      <td>10</td>\n",
              "    </tr>\n",
              "  </tbody>\n",
              "</table>\n",
              "<p>5 rows × 33 columns</p>\n",
              "</div>\n",
              "      <button class=\"colab-df-convert\" onclick=\"convertToInteractive('df-c73b573c-f96c-421a-9f72-b21875bec40d')\"\n",
              "              title=\"Convert this dataframe to an interactive table.\"\n",
              "              style=\"display:none;\">\n",
              "        \n",
              "  <svg xmlns=\"http://www.w3.org/2000/svg\" height=\"24px\"viewBox=\"0 0 24 24\"\n",
              "       width=\"24px\">\n",
              "    <path d=\"M0 0h24v24H0V0z\" fill=\"none\"/>\n",
              "    <path d=\"M18.56 5.44l.94 2.06.94-2.06 2.06-.94-2.06-.94-.94-2.06-.94 2.06-2.06.94zm-11 1L8.5 8.5l.94-2.06 2.06-.94-2.06-.94L8.5 2.5l-.94 2.06-2.06.94zm10 10l.94 2.06.94-2.06 2.06-.94-2.06-.94-.94-2.06-.94 2.06-2.06.94z\"/><path d=\"M17.41 7.96l-1.37-1.37c-.4-.4-.92-.59-1.43-.59-.52 0-1.04.2-1.43.59L10.3 9.45l-7.72 7.72c-.78.78-.78 2.05 0 2.83L4 21.41c.39.39.9.59 1.41.59.51 0 1.02-.2 1.41-.59l7.78-7.78 2.81-2.81c.8-.78.8-2.07 0-2.86zM5.41 20L4 18.59l7.72-7.72 1.47 1.35L5.41 20z\"/>\n",
              "  </svg>\n",
              "      </button>\n",
              "      \n",
              "  <style>\n",
              "    .colab-df-container {\n",
              "      display:flex;\n",
              "      flex-wrap:wrap;\n",
              "      gap: 12px;\n",
              "    }\n",
              "\n",
              "    .colab-df-convert {\n",
              "      background-color: #E8F0FE;\n",
              "      border: none;\n",
              "      border-radius: 50%;\n",
              "      cursor: pointer;\n",
              "      display: none;\n",
              "      fill: #1967D2;\n",
              "      height: 32px;\n",
              "      padding: 0 0 0 0;\n",
              "      width: 32px;\n",
              "    }\n",
              "\n",
              "    .colab-df-convert:hover {\n",
              "      background-color: #E2EBFA;\n",
              "      box-shadow: 0px 1px 2px rgba(60, 64, 67, 0.3), 0px 1px 3px 1px rgba(60, 64, 67, 0.15);\n",
              "      fill: #174EA6;\n",
              "    }\n",
              "\n",
              "    [theme=dark] .colab-df-convert {\n",
              "      background-color: #3B4455;\n",
              "      fill: #D2E3FC;\n",
              "    }\n",
              "\n",
              "    [theme=dark] .colab-df-convert:hover {\n",
              "      background-color: #434B5C;\n",
              "      box-shadow: 0px 1px 3px 1px rgba(0, 0, 0, 0.15);\n",
              "      filter: drop-shadow(0px 1px 2px rgba(0, 0, 0, 0.3));\n",
              "      fill: #FFFFFF;\n",
              "    }\n",
              "  </style>\n",
              "\n",
              "      <script>\n",
              "        const buttonEl =\n",
              "          document.querySelector('#df-c73b573c-f96c-421a-9f72-b21875bec40d button.colab-df-convert');\n",
              "        buttonEl.style.display =\n",
              "          google.colab.kernel.accessAllowed ? 'block' : 'none';\n",
              "\n",
              "        async function convertToInteractive(key) {\n",
              "          const element = document.querySelector('#df-c73b573c-f96c-421a-9f72-b21875bec40d');\n",
              "          const dataTable =\n",
              "            await google.colab.kernel.invokeFunction('convertToInteractive',\n",
              "                                                     [key], {});\n",
              "          if (!dataTable) return;\n",
              "\n",
              "          const docLinkHtml = 'Like what you see? Visit the ' +\n",
              "            '<a target=\"_blank\" href=https://colab.research.google.com/notebooks/data_table.ipynb>data table notebook</a>'\n",
              "            + ' to learn more about interactive tables.';\n",
              "          element.innerHTML = '';\n",
              "          dataTable['output_type'] = 'display_data';\n",
              "          await google.colab.output.renderOutput(dataTable, element);\n",
              "          const docLink = document.createElement('div');\n",
              "          docLink.innerHTML = docLinkHtml;\n",
              "          element.appendChild(docLink);\n",
              "        }\n",
              "      </script>\n",
              "    </div>\n",
              "  </div>\n",
              "  "
            ]
          },
          "metadata": {},
          "execution_count": 2
        }
      ]
    },
    {
      "cell_type": "markdown",
      "metadata": {
        "id": "7SfueFgsNdNt"
      },
      "source": [
        "# 3. Research\n",
        "\n",
        "Put your code and your experiments here.\n",
        "\n",
        "For full credit, your experiments should include the following models:\n",
        "- __k Nearest Neighbors__\n",
        "- __weighted k Nearest Neighbors__\n",
        "- __decision tree__\n",
        "- __random forest__\n",
        "\n",
        "You need to demonstrate the performance of these models on both __normalized__ and __non-normalized__ data.\n",
        "\n",
        "For each of the above models, you need to include a __graph of at least 1 tuned parameter__.\n"
      ]
    },
    {
      "cell_type": "code",
      "source": [
        "# code goes here... don't forget to include graphs. Professor Moore loves graphs.\n",
        "# Non-normalized data\n",
        "#KNN\n",
        "import matplotlib.pyplot as plt\n",
        "predictors= ['G1','G2']\n",
        "target= ['G3']\n",
        "X= Data[predictors]\n",
        "Y= Data[target]\n",
        "X_train, X_test, Y_train, Y_test = train_test_split(X, Y, test_size = 0.5, random_state= 41)\n",
        "\n",
        "model = KNeighborsRegressor(n_neighbors = 5)\n",
        "model.fit(X_train, Y_train)\n",
        "Y_pred= model.predict(X_test)\n",
        "\n",
        "mse = mean_squared_error(Y_test, Y_pred)\n",
        "model.fit(X_train, Y_train)\n",
        "\n",
        "Y_pred= model.predict(X_test)\n",
        "mse= mean_squared_error(Y_test, Y_pred)\n",
        "mae= r2_score(Y_test, Y_test)\n",
        "print(\"Mean squared error: {:.2f}\".format(mse))\n",
        "print(\"R-squared: {:.2f}\".format(mae))\n",
        "\n",
        "new_data = pd.DataFrame({'G1': [10], 'G2': [15]})\n",
        "prediction = model.predict(new_data)\n",
        "print(\"Predicted final grade: {:.2f}\".format(prediction.item()))\n",
        "\n",
        "param_grid_knn = {'n_neighbors': np.arange(1, 30)}\n",
        "knn_model = KNeighborsRegressor()\n",
        "grid_knn = GridSearchCV(knn_model, param_grid_knn, cv=5, return_train_score=True)\n",
        "grid_knn.fit(X_train, Y_train)\n",
        "\n",
        "knn_results = pd.DataFrame(grid_knn.cv_results_)\n",
        "plt.plot(knn_results['param_n_neighbors'], knn_results['mean_test_score'], label='Mean Test Score')\n",
        "plt.plot(knn_results['param_n_neighbors'], knn_results['mean_train_score'], label='Mean Train Score')\n",
        "plt.xlabel('Number of Neighbors')\n",
        "plt.ylabel('Score')\n",
        "plt.title('KNN Parameter Tuning')\n",
        "plt.legend()\n",
        "plt.show()\n",
        "\n",
        "\n",
        "\n"
      ],
      "metadata": {
        "id": "Z7Wxh3O0KHvo",
        "colab": {
          "base_uri": "https://localhost:8080/",
          "height": 523
        },
        "outputId": "d10b2b1c-ab0b-448d-eb23-8efc2f334c13"
      },
      "execution_count": null,
      "outputs": [
        {
          "output_type": "stream",
          "name": "stdout",
          "text": [
            "Mean squared error: 5.08\n",
            "R-squared: 1.00\n",
            "Predicted final grade: 13.80\n"
          ]
        },
        {
          "output_type": "display_data",
          "data": {
            "text/plain": [
              "<Figure size 640x480 with 1 Axes>"
            ],
            "image/png": "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\n"
          },
          "metadata": {}
        }
      ]
    },
    {
      "cell_type": "code",
      "source": [
        "#normalized data\n",
        "import numpy as np\n",
        "predictors= ['G1','G2']\n",
        "target= ['G3']\n",
        "x= Data[predictors]\n",
        "Y= Data[target]\n",
        "\n",
        "scaler = StandardScaler()\n",
        "X= scaler.fit_transform(x)\n",
        "X_train, X_test, Y_train, Y_test = train_test_split(X, Y, test_size = 1, random_state= 41)\n",
        "model = KNeighborsRegressor(n_neighbors = 5)\n",
        "model.fit(X_train, Y_train)\n",
        "\n",
        "Y_pred= model.predict(X_test)\n",
        "mse= mean_squared_error(Y_test, Y_pred)\n",
        "mae= r2_score(Y_test, Y_test)\n",
        "print(\"Mean squared error: {:.2f}\".format(mse))\n",
        "print(\"R-squared: {:.2f}\".format(mae))\n",
        "\n",
        "new_data = pd.DataFrame({'G1': [10], 'G2': [15]})\n",
        "new_data_norm = scaler.transform(new_data)\n",
        "prediction = model.predict(new_data_norm)\n",
        "print(\"Predicted final grade: {:.2f}\".format(prediction.item()))"
      ],
      "metadata": {
        "colab": {
          "base_uri": "https://localhost:8080/"
        },
        "id": "GurXMKmcXItX",
        "outputId": "8490d409-2429-4941-97da-efb501254445"
      },
      "execution_count": null,
      "outputs": [
        {
          "output_type": "stream",
          "name": "stdout",
          "text": [
            "Mean squared error: 1.44\n",
            "R-squared: nan\n",
            "Predicted final grade: 13.60\n"
          ]
        },
        {
          "output_type": "stream",
          "name": "stderr",
          "text": [
            "/usr/local/lib/python3.9/dist-packages/sklearn/metrics/_regression.py:918: UndefinedMetricWarning: R^2 score is not well-defined with less than two samples.\n",
            "  warnings.warn(msg, UndefinedMetricWarning)\n"
          ]
        }
      ]
    },
    {
      "cell_type": "code",
      "source": [
        "\n",
        "# code goes here... don't forget to include graphs. Professor Moore loves graphs.predictors= ['G1','G2']target= ['G3']X= Data[predictors]Y= Data[target]X_train, X_test, Y_train, Y_test = train_test_split(X, Y, test_size = 0.5, random_state= 41)model = KNeighborsRegressor(n_neighbors = 5)model.fit(X_train, Y_train)Y_pred= model.predict(X_test)mse = mean_squared_error(Y_test, Y_pred)model.fit(X_train, Y_train)Y_pred= model.predict(X_test)mse= mean_squared_error(Y_test, Y_pred)mae= r2_score(Y_test, Y_test)print(\"Mean squared error: {:.2f}\".format(mse))print(\"R-squared: {:.2f}\".format(mae))new_data = pd.DataFrame({'G1': [10], 'G2': [15]})prediction = model.predict(new_data)print(\"Predicted final grade: {:.2f}\".format(prediction.item()))\n",
        "#WKNN\n",
        "predictors= ['G1','G2']\n",
        "target= ['G3']\n",
        "X= Data[predictors]\n",
        "Y= Data[target]\n",
        "X_train, X_test, Y_train, Y_test = train_test_split(X, Y, test_size = 0.5, random_state= 41)\n",
        "model = KNeighborsRegressor(n_neighbors = 5, weights = 'distance')\n",
        "model.fit(X_train, Y_train)\n",
        "Y_pred= model.predict(X_test)\n",
        "\n",
        "mse = mean_squared_error(Y_test, Y_pred)\n",
        "model.fit(X_train, Y_train)\n",
        "\n",
        "Y_pred= model.predict(X_test)\n",
        "mse= mean_squared_error(Y_test, Y_pred)\n",
        "mae= r2_score(Y_test, Y_test)\n",
        "print(\"Mean squared error: {:.2f}\".format(mse))\n",
        "print(\"R-squared: {:.2f}\".format(mae))\n",
        "\n",
        "new_data = pd.DataFrame({'G1': [10], 'G2': [15]})\n",
        "prediction = model.predict(new_data)\n",
        "print(\"Predicted final grade: {:.2f}\".format(prediction.item()))"
      ],
      "metadata": {
        "colab": {
          "base_uri": "https://localhost:8080/"
        },
        "id": "3owAklXqVoof",
        "outputId": "f5d7b6ae-01ce-42d9-d9db-8b6690627c99"
      },
      "execution_count": null,
      "outputs": [
        {
          "output_type": "stream",
          "name": "stdout",
          "text": [
            "Mean squared error: 5.18\n",
            "R-squared: 1.00\n",
            "Predicted final grade: 13.79\n"
          ]
        }
      ]
    },
    {
      "cell_type": "code",
      "source": [
        "#normalized WKNN\n",
        "predictors= ['G1','G2']\n",
        "target= ['G3','freetime', 'goout', 'Dalc',\t'Walc','health','absences']\n",
        "x= Data[predictors]\n",
        "Y= Data[target]\n",
        "\n",
        "scaler = StandardScaler()\n",
        "X = scaler.fit_transform(x)\n",
        "X_train, X_test, Y_train, Y_test = train_test_split(X, Y, test_size = 0.5, random_state= 41)\n",
        "model = KNeighborsRegressor(n_neighbors = 5, weights = 'distance')\n",
        "model.fit(X_train, Y_train)\n",
        "Y_pred= model.predict(X_test)\n",
        "\n",
        "mse = mean_squared_error(Y_test, Y_pred)\n",
        "model.fit(X_train, Y_train)\n",
        "\n",
        "Y_pred= model.predict(X_test)\n",
        "mse= mean_squared_error(Y_test, Y_pred)\n",
        "mae= r2_score(Y_test, Y_test)\n",
        "print(\"Mean squared error: {:.2f}\".format(mse))\n",
        "print(\"R-squared: {:.2f}\".format(mae))\n",
        "\n",
        "new_data = pd.DataFrame({'G1': [10], 'G2': [15]})\n",
        "new_data_norm = scaler.transform(new_data)\n",
        "prediction = model.predict(new_data_norm)\n",
        "print(\"Predicted final grade: {:.2f}\" prediction)"
      ],
      "metadata": {
        "colab": {
          "base_uri": "https://localhost:8080/",
          "height": 130
        },
        "id": "qVmpIONUcxV0",
        "outputId": "88846347-d91f-4ff7-b50d-649ce3769a12"
      },
      "execution_count": null,
      "outputs": [
        {
          "output_type": "error",
          "ename": "SyntaxError",
          "evalue": "ignored",
          "traceback": [
            "\u001b[0;36m  File \u001b[0;32m\"<ipython-input-5-0d4e4510184b>\"\u001b[0;36m, line \u001b[0;32m26\u001b[0m\n\u001b[0;31m    print(\"Predicted final grade: {:.2f}\" prediction)\u001b[0m\n\u001b[0m                                          ^\u001b[0m\n\u001b[0;31mSyntaxError\u001b[0m\u001b[0;31m:\u001b[0m invalid syntax\n"
          ]
        }
      ]
    },
    {
      "cell_type": "code",
      "source": [
        "#Decision tree\n",
        "from sklearn.tree import DecisionTreeRegressor\n",
        "predictors= ['G1','G2']\n",
        "target= ['G3']\n",
        "X= Data[predictors]\n",
        "Y= Data[target]\n",
        "X_train, X_test, Y_train, Y_test = train_test_split(X, Y, test_size = 0.5, random_state= 41)\n",
        "model = DecisionTreeRegressor(max_depth = 5)\n",
        "model.fit(X_train, Y_train)\n",
        "Y_pred= model.predict(X_test)\n",
        "\n",
        "mse = mean_squared_error(Y_test, Y_pred)\n",
        "model.fit(X_train, Y_train)\n",
        "\n",
        "Y_pred= model.predict(X_test)\n",
        "mse= mean_squared_error(Y_test, Y_pred)\n",
        "mae= r2_score(Y_test, Y_pred)\n",
        "print(\"Mean squared error: {:.2f}\".format(mse))\n",
        "print(\"R-squared: {:.2f}\".format(mae))\n",
        "\n",
        "new_data = pd.DataFrame({'G1': [10], 'G2': [15]})\n",
        "prediction = model.predict(new_data)\n",
        "print(\"Predicted final grade: {:.2f}\".format(prediction[0]))\n"
      ],
      "metadata": {
        "colab": {
          "base_uri": "https://localhost:8080/"
        },
        "id": "-39po7TIguAd",
        "outputId": "2c8c3546-d473-4656-d249-bc0cec667b8e"
      },
      "execution_count": null,
      "outputs": [
        {
          "output_type": "stream",
          "name": "stdout",
          "text": [
            "Mean squared error: 5.10\n",
            "R-squared: 0.77\n",
            "Predicted final grade: 15.22\n"
          ]
        }
      ]
    },
    {
      "cell_type": "code",
      "source": [
        "features = ['freetime']\n",
        "target = ['G3']\n",
        "X = Data[features]\n",
        "y = Data[target]\n",
        "\n",
        "dt_model = DecisionTreeRegressor(random_state=42)\n",
        "dt_model.fit(X, y)\n",
        "\n",
        "corr_matrix = X.join(y).corr()\n",
        "\n",
        "sns.heatmap(corr_matrix, annot=True)\n",
        "plt.show()"
      ],
      "metadata": {
        "colab": {
          "base_uri": "https://localhost:8080/",
          "height": 435
        },
        "id": "IE1USAv-lqm2",
        "outputId": "6c238c4c-5c19-494d-94d3-417a7a09e0b2"
      },
      "execution_count": null,
      "outputs": [
        {
          "output_type": "display_data",
          "data": {
            "text/plain": [
              "<Figure size 640x480 with 2 Axes>"
            ],
            "image/png": "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\n"
          },
          "metadata": {}
        }
      ]
    },
    {
      "cell_type": "code",
      "source": [
        "#Decision tree Normalized\n",
        "Predictors = ['G1', 'G2']\n",
        "target = ['G3']\n",
        "x = Data[Predictors]\n",
        "y = Data[target]\n",
        "\n",
        "scaler = StandardScaler()\n",
        "X = scaler.fit_transform(x)\n",
        "\n",
        "X_train, X_test, y_train, y_test = train_test_split(X, y, test_size=0.5, random_state=42)\n",
        "\n",
        "model = DecisionTreeRegressor(max_depth=5)\n",
        "model.fit(X_train, y_train)\n",
        "\n",
        "y_pred = model.predict(X_test)\n",
        "\n",
        "\n",
        "mse = mean_squared_error(y_test, y_pred)\n",
        "mae = r2_score(y_test, y_pred)\n",
        "\n",
        "print(\"Mean squared error: {:.2f}\".format(mse))\n",
        "print(\"R-squared: {:.2f}\".format(mae))\n",
        "\n",
        "new_data = pd.DataFrame({'G1': [10], 'G2': [15]})\n",
        "new_data_norm = scaler.transform(new_data)\n",
        "prediction = model.predict(new_data_norm)\n",
        "print(\"Predicted final grade: {:.2f}\".format(prediction[0]))\n",
        "\n",
        "param_grid_dt = {'max_depth': np.arange(1, 10)}\n",
        "dt_model = DecisionTreeRegressor(random_state=42)\n",
        "grid_dt = GridSearchCV(dt_model, param_grid_dt, cv=5, return_train_score=True)\n",
        "grid_dt.fit(X_train, y_train)\n",
        "\n",
        "dt_results = pd.DataFrame(grid_dt.cv_results_)\n",
        "plt.plot(dt_results['param_max_depth'], dt_results['mean_test_score'], label='Mean Test Score')\n",
        "plt.plot(dt_results['param_max_depth'], dt_results['mean_train_score'], label='Mean Train Score')\n",
        "plt.xlabel('Max Tree Depth')\n",
        "plt.ylabel('Score')\n",
        "plt.title('Decision Tree Parameter Tuning')\n",
        "plt.legend()\n",
        "plt.show()\n"
      ],
      "metadata": {
        "id": "6T4BLHElhtIP",
        "colab": {
          "base_uri": "https://localhost:8080/",
          "height": 523
        },
        "outputId": "fb4026e5-81b2-4a3b-e790-4067dbb65119"
      },
      "execution_count": null,
      "outputs": [
        {
          "output_type": "stream",
          "name": "stdout",
          "text": [
            "Mean squared error: 6.63\n",
            "R-squared: 0.69\n",
            "Predicted final grade: 15.24\n"
          ]
        },
        {
          "output_type": "display_data",
          "data": {
            "text/plain": [
              "<Figure size 640x480 with 1 Axes>"
            ],
            "image/png": "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\n"
          },
          "metadata": {}
        }
      ]
    },
    {
      "cell_type": "code",
      "source": [
        "#Random forest\n",
        "from sklearn.ensemble import RandomForestRegressor\n",
        "Predictors = ['G1', 'G2']\n",
        "target = ['G3']\n",
        "X = Data[Predictors]\n",
        "y = Data[target]\n",
        "\n",
        "# Split the data into training and testing sets\n",
        "X_train, X_test, y_train, y_test = train_test_split(X, y, test_size=0.5, random_state=42)\n",
        "\n",
        "# Train the random forest regression model\n",
        "model = RandomForestRegressor(n_estimators=100, max_depth=5, random_state=42)\n",
        "model.fit(X_train, y_train)\n",
        "\n",
        "# Make predictions on the test set\n",
        "y_pred = model.predict(X_test)\n",
        "\n",
        "# Evaluate the model's performance\n",
        "mse = mean_squared_error(y_test, y_pred)\n",
        "mae = r2_score(y_test, y_pred)\n",
        "\n",
        "print(\"Mean squared error: {:.2f}\".format(mse))\n",
        "print(\"R-squared: {:.2f}\".format(mae))\n",
        "\n",
        "# Use the model for predictions on new data\n",
        "new_data = pd.DataFrame({'G1': [10], 'G2': [15]})\n",
        "prediction = model.predict(new_data)\n",
        "print(\"Predicted final grade: {:.2f}\".format(prediction[0]))"
      ],
      "metadata": {
        "colab": {
          "base_uri": "https://localhost:8080/"
        },
        "id": "MFrHjIsich7n",
        "outputId": "0be5c236-3223-4a19-ba92-7c4135c35fbe"
      },
      "execution_count": null,
      "outputs": [
        {
          "output_type": "stream",
          "name": "stderr",
          "text": [
            "<ipython-input-34-2724acc52f2d>:12: DataConversionWarning: A column-vector y was passed when a 1d array was expected. Please change the shape of y to (n_samples,), for example using ravel().\n",
            "  model.fit(X_train, y_train)\n"
          ]
        },
        {
          "output_type": "stream",
          "name": "stdout",
          "text": [
            "Mean squared error: 5.03\n",
            "R-squared: 0.77\n",
            "Predicted final grade: 15.21\n"
          ]
        }
      ]
    },
    {
      "cell_type": "code",
      "source": [
        "#Random forest normalized\n",
        "Predictors = ['G1', 'G2']\n",
        "target = ['G3']\n",
        "x = Data[Predictors]\n",
        "y = Data[target]\n",
        "\n",
        "scaler = StandardScaler()\n",
        "X = scaler.fit_transform(x)\n",
        "\n",
        "X_train, X_test, y_train, y_test = train_test_split(X, y, test_size=0.5, random_state=42)\n",
        "\n",
        "model = RandomForestRegressor(n_estimators=100, max_depth=5, random_state=42)\n",
        "model.fit(X_train, y_train)\n",
        "\n",
        "y_pred = model.predict(X_test)\n",
        "\n",
        "mse = mean_squared_error(y_test, y_pred)\n",
        "mae = r2_score(y_test, y_pred)\n",
        "\n",
        "print(\"Mean squared error: {:.2f}\".format(mse))\n",
        "print(\"R-squared: {:.2f}\".format(mae))\n",
        "\n",
        "new_data = pd.DataFrame({'G1': [10], 'G2': [15]})\n",
        "new_data_norm = scaler.transform(new_data)\n",
        "prediction = model.predict(new_data_norm)\n",
        "print(\"Predicted final grade: {:.2f}\".format(prediction[0]))\n",
        "\n",
        "param_grid_rf = {'n_estimators': [50, 100, 150, 200], 'max_depth': [3, 5, 7, 9]}\n",
        "rf_model = RandomForestRegressor(random_state=42)\n",
        "grid_rf = GridSearchCV(rf_model, param_grid_rf, cv=5)\n",
        "grid_rf.fit(X_train, y_train)\n",
        "\n",
        "rf_results = pd.DataFrame(grid_rf.cv_results_)\n",
        "rf_results_pivot = rf_results.pivot('param_max_depth', 'param_n_estimators', 'mean_test_score')\n",
        "plt.imshow(rf_results_pivot, cmap='hot', interpolation='nearest')\n",
        "plt.xticks(np.arange(len(param_grid_rf['n_estimators'])), param_grid_rf['n_estimators'])\n",
        "plt.yticks(np.arange(len(param_grid_rf['max_depth'])), param_grid_rf['max_depth'])\n",
        "plt.xlabel('Number of Estimators')\n",
        "plt.ylabel('Max Tree Depth')\n",
        "plt.title('Random Forest Parameter Tuning')\n",
        "plt.colorbar()\n",
        "plt.show()"
      ],
      "metadata": {
        "colab": {
          "base_uri": "https://localhost:8080/",
          "height": 1000
        },
        "id": "D0t1mxWLdimA",
        "outputId": "61d08d91-0871-4ad7-ea04-53992aa4b227"
      },
      "execution_count": null,
      "outputs": [
        {
          "output_type": "stream",
          "name": "stderr",
          "text": [
            "<ipython-input-41-ac29bacd50ee>:13: DataConversionWarning: A column-vector y was passed when a 1d array was expected. Please change the shape of y to (n_samples,), for example using ravel().\n",
            "  model.fit(X_train, y_train)\n"
          ]
        },
        {
          "output_type": "stream",
          "name": "stdout",
          "text": [
            "Mean squared error: 4.98\n",
            "R-squared: 0.77\n",
            "Predicted final grade: 15.21\n"
          ]
        },
        {
          "output_type": "stream",
          "name": "stderr",
          "text": [
            "/usr/local/lib/python3.9/dist-packages/sklearn/model_selection/_validation.py:686: DataConversionWarning: A column-vector y was passed when a 1d array was expected. Please change the shape of y to (n_samples,), for example using ravel().\n",
            "  estimator.fit(X_train, y_train, **fit_params)\n",
            "/usr/local/lib/python3.9/dist-packages/sklearn/model_selection/_validation.py:686: DataConversionWarning: A column-vector y was passed when a 1d array was expected. Please change the shape of y to (n_samples,), for example using ravel().\n",
            "  estimator.fit(X_train, y_train, **fit_params)\n",
            "/usr/local/lib/python3.9/dist-packages/sklearn/model_selection/_validation.py:686: DataConversionWarning: A column-vector y was passed when a 1d array was expected. Please change the shape of y to (n_samples,), for example using ravel().\n",
            "  estimator.fit(X_train, y_train, **fit_params)\n",
            "/usr/local/lib/python3.9/dist-packages/sklearn/model_selection/_validation.py:686: DataConversionWarning: A column-vector y was passed when a 1d array was expected. Please change the shape of y to (n_samples,), for example using ravel().\n",
            "  estimator.fit(X_train, y_train, **fit_params)\n",
            "/usr/local/lib/python3.9/dist-packages/sklearn/model_selection/_validation.py:686: DataConversionWarning: A column-vector y was passed when a 1d array was expected. Please change the shape of y to (n_samples,), for example using ravel().\n",
            "  estimator.fit(X_train, y_train, **fit_params)\n",
            "/usr/local/lib/python3.9/dist-packages/sklearn/model_selection/_validation.py:686: DataConversionWarning: A column-vector y was passed when a 1d array was expected. Please change the shape of y to (n_samples,), for example using ravel().\n",
            "  estimator.fit(X_train, y_train, **fit_params)\n",
            "/usr/local/lib/python3.9/dist-packages/sklearn/model_selection/_validation.py:686: DataConversionWarning: A column-vector y was passed when a 1d array was expected. Please change the shape of y to (n_samples,), for example using ravel().\n",
            "  estimator.fit(X_train, y_train, **fit_params)\n",
            "/usr/local/lib/python3.9/dist-packages/sklearn/model_selection/_validation.py:686: DataConversionWarning: A column-vector y was passed when a 1d array was expected. Please change the shape of y to (n_samples,), for example using ravel().\n",
            "  estimator.fit(X_train, y_train, **fit_params)\n",
            "/usr/local/lib/python3.9/dist-packages/sklearn/model_selection/_validation.py:686: DataConversionWarning: A column-vector y was passed when a 1d array was expected. Please change the shape of y to (n_samples,), for example using ravel().\n",
            "  estimator.fit(X_train, y_train, **fit_params)\n",
            "/usr/local/lib/python3.9/dist-packages/sklearn/model_selection/_validation.py:686: DataConversionWarning: A column-vector y was passed when a 1d array was expected. Please change the shape of y to (n_samples,), for example using ravel().\n",
            "  estimator.fit(X_train, y_train, **fit_params)\n",
            "/usr/local/lib/python3.9/dist-packages/sklearn/model_selection/_validation.py:686: DataConversionWarning: A column-vector y was passed when a 1d array was expected. Please change the shape of y to (n_samples,), for example using ravel().\n",
            "  estimator.fit(X_train, y_train, **fit_params)\n",
            "/usr/local/lib/python3.9/dist-packages/sklearn/model_selection/_validation.py:686: DataConversionWarning: A column-vector y was passed when a 1d array was expected. Please change the shape of y to (n_samples,), for example using ravel().\n",
            "  estimator.fit(X_train, y_train, **fit_params)\n",
            "/usr/local/lib/python3.9/dist-packages/sklearn/model_selection/_validation.py:686: DataConversionWarning: A column-vector y was passed when a 1d array was expected. Please change the shape of y to (n_samples,), for example using ravel().\n",
            "  estimator.fit(X_train, y_train, **fit_params)\n",
            "/usr/local/lib/python3.9/dist-packages/sklearn/model_selection/_validation.py:686: DataConversionWarning: A column-vector y was passed when a 1d array was expected. Please change the shape of y to (n_samples,), for example using ravel().\n",
            "  estimator.fit(X_train, y_train, **fit_params)\n",
            "/usr/local/lib/python3.9/dist-packages/sklearn/model_selection/_validation.py:686: DataConversionWarning: A column-vector y was passed when a 1d array was expected. Please change the shape of y to (n_samples,), for example using ravel().\n",
            "  estimator.fit(X_train, y_train, **fit_params)\n",
            "/usr/local/lib/python3.9/dist-packages/sklearn/model_selection/_validation.py:686: DataConversionWarning: A column-vector y was passed when a 1d array was expected. Please change the shape of y to (n_samples,), for example using ravel().\n",
            "  estimator.fit(X_train, y_train, **fit_params)\n",
            "/usr/local/lib/python3.9/dist-packages/sklearn/model_selection/_validation.py:686: DataConversionWarning: A column-vector y was passed when a 1d array was expected. Please change the shape of y to (n_samples,), for example using ravel().\n",
            "  estimator.fit(X_train, y_train, **fit_params)\n",
            "/usr/local/lib/python3.9/dist-packages/sklearn/model_selection/_validation.py:686: DataConversionWarning: A column-vector y was passed when a 1d array was expected. Please change the shape of y to (n_samples,), for example using ravel().\n",
            "  estimator.fit(X_train, y_train, **fit_params)\n",
            "/usr/local/lib/python3.9/dist-packages/sklearn/model_selection/_validation.py:686: DataConversionWarning: A column-vector y was passed when a 1d array was expected. Please change the shape of y to (n_samples,), for example using ravel().\n",
            "  estimator.fit(X_train, y_train, **fit_params)\n",
            "/usr/local/lib/python3.9/dist-packages/sklearn/model_selection/_validation.py:686: DataConversionWarning: A column-vector y was passed when a 1d array was expected. Please change the shape of y to (n_samples,), for example using ravel().\n",
            "  estimator.fit(X_train, y_train, **fit_params)\n",
            "/usr/local/lib/python3.9/dist-packages/sklearn/model_selection/_validation.py:686: DataConversionWarning: A column-vector y was passed when a 1d array was expected. Please change the shape of y to (n_samples,), for example using ravel().\n",
            "  estimator.fit(X_train, y_train, **fit_params)\n",
            "/usr/local/lib/python3.9/dist-packages/sklearn/model_selection/_validation.py:686: DataConversionWarning: A column-vector y was passed when a 1d array was expected. Please change the shape of y to (n_samples,), for example using ravel().\n",
            "  estimator.fit(X_train, y_train, **fit_params)\n",
            "/usr/local/lib/python3.9/dist-packages/sklearn/model_selection/_validation.py:686: DataConversionWarning: A column-vector y was passed when a 1d array was expected. Please change the shape of y to (n_samples,), for example using ravel().\n",
            "  estimator.fit(X_train, y_train, **fit_params)\n",
            "/usr/local/lib/python3.9/dist-packages/sklearn/model_selection/_validation.py:686: DataConversionWarning: A column-vector y was passed when a 1d array was expected. Please change the shape of y to (n_samples,), for example using ravel().\n",
            "  estimator.fit(X_train, y_train, **fit_params)\n",
            "/usr/local/lib/python3.9/dist-packages/sklearn/model_selection/_validation.py:686: DataConversionWarning: A column-vector y was passed when a 1d array was expected. Please change the shape of y to (n_samples,), for example using ravel().\n",
            "  estimator.fit(X_train, y_train, **fit_params)\n",
            "/usr/local/lib/python3.9/dist-packages/sklearn/model_selection/_validation.py:686: DataConversionWarning: A column-vector y was passed when a 1d array was expected. Please change the shape of y to (n_samples,), for example using ravel().\n",
            "  estimator.fit(X_train, y_train, **fit_params)\n",
            "/usr/local/lib/python3.9/dist-packages/sklearn/model_selection/_validation.py:686: DataConversionWarning: A column-vector y was passed when a 1d array was expected. Please change the shape of y to (n_samples,), for example using ravel().\n",
            "  estimator.fit(X_train, y_train, **fit_params)\n",
            "/usr/local/lib/python3.9/dist-packages/sklearn/model_selection/_validation.py:686: DataConversionWarning: A column-vector y was passed when a 1d array was expected. Please change the shape of y to (n_samples,), for example using ravel().\n",
            "  estimator.fit(X_train, y_train, **fit_params)\n",
            "/usr/local/lib/python3.9/dist-packages/sklearn/model_selection/_validation.py:686: DataConversionWarning: A column-vector y was passed when a 1d array was expected. Please change the shape of y to (n_samples,), for example using ravel().\n",
            "  estimator.fit(X_train, y_train, **fit_params)\n",
            "/usr/local/lib/python3.9/dist-packages/sklearn/model_selection/_validation.py:686: DataConversionWarning: A column-vector y was passed when a 1d array was expected. Please change the shape of y to (n_samples,), for example using ravel().\n",
            "  estimator.fit(X_train, y_train, **fit_params)\n",
            "/usr/local/lib/python3.9/dist-packages/sklearn/model_selection/_validation.py:686: DataConversionWarning: A column-vector y was passed when a 1d array was expected. Please change the shape of y to (n_samples,), for example using ravel().\n",
            "  estimator.fit(X_train, y_train, **fit_params)\n",
            "/usr/local/lib/python3.9/dist-packages/sklearn/model_selection/_validation.py:686: DataConversionWarning: A column-vector y was passed when a 1d array was expected. Please change the shape of y to (n_samples,), for example using ravel().\n",
            "  estimator.fit(X_train, y_train, **fit_params)\n",
            "/usr/local/lib/python3.9/dist-packages/sklearn/model_selection/_validation.py:686: DataConversionWarning: A column-vector y was passed when a 1d array was expected. Please change the shape of y to (n_samples,), for example using ravel().\n",
            "  estimator.fit(X_train, y_train, **fit_params)\n",
            "/usr/local/lib/python3.9/dist-packages/sklearn/model_selection/_validation.py:686: DataConversionWarning: A column-vector y was passed when a 1d array was expected. Please change the shape of y to (n_samples,), for example using ravel().\n",
            "  estimator.fit(X_train, y_train, **fit_params)\n",
            "/usr/local/lib/python3.9/dist-packages/sklearn/model_selection/_validation.py:686: DataConversionWarning: A column-vector y was passed when a 1d array was expected. Please change the shape of y to (n_samples,), for example using ravel().\n",
            "  estimator.fit(X_train, y_train, **fit_params)\n",
            "/usr/local/lib/python3.9/dist-packages/sklearn/model_selection/_validation.py:686: DataConversionWarning: A column-vector y was passed when a 1d array was expected. Please change the shape of y to (n_samples,), for example using ravel().\n",
            "  estimator.fit(X_train, y_train, **fit_params)\n",
            "/usr/local/lib/python3.9/dist-packages/sklearn/model_selection/_validation.py:686: DataConversionWarning: A column-vector y was passed when a 1d array was expected. Please change the shape of y to (n_samples,), for example using ravel().\n",
            "  estimator.fit(X_train, y_train, **fit_params)\n",
            "/usr/local/lib/python3.9/dist-packages/sklearn/model_selection/_validation.py:686: DataConversionWarning: A column-vector y was passed when a 1d array was expected. Please change the shape of y to (n_samples,), for example using ravel().\n",
            "  estimator.fit(X_train, y_train, **fit_params)\n",
            "/usr/local/lib/python3.9/dist-packages/sklearn/model_selection/_validation.py:686: DataConversionWarning: A column-vector y was passed when a 1d array was expected. Please change the shape of y to (n_samples,), for example using ravel().\n",
            "  estimator.fit(X_train, y_train, **fit_params)\n",
            "/usr/local/lib/python3.9/dist-packages/sklearn/model_selection/_validation.py:686: DataConversionWarning: A column-vector y was passed when a 1d array was expected. Please change the shape of y to (n_samples,), for example using ravel().\n",
            "  estimator.fit(X_train, y_train, **fit_params)\n",
            "/usr/local/lib/python3.9/dist-packages/sklearn/model_selection/_validation.py:686: DataConversionWarning: A column-vector y was passed when a 1d array was expected. Please change the shape of y to (n_samples,), for example using ravel().\n",
            "  estimator.fit(X_train, y_train, **fit_params)\n",
            "/usr/local/lib/python3.9/dist-packages/sklearn/model_selection/_validation.py:686: DataConversionWarning: A column-vector y was passed when a 1d array was expected. Please change the shape of y to (n_samples,), for example using ravel().\n",
            "  estimator.fit(X_train, y_train, **fit_params)\n",
            "/usr/local/lib/python3.9/dist-packages/sklearn/model_selection/_validation.py:686: DataConversionWarning: A column-vector y was passed when a 1d array was expected. Please change the shape of y to (n_samples,), for example using ravel().\n",
            "  estimator.fit(X_train, y_train, **fit_params)\n",
            "/usr/local/lib/python3.9/dist-packages/sklearn/model_selection/_validation.py:686: DataConversionWarning: A column-vector y was passed when a 1d array was expected. Please change the shape of y to (n_samples,), for example using ravel().\n",
            "  estimator.fit(X_train, y_train, **fit_params)\n",
            "/usr/local/lib/python3.9/dist-packages/sklearn/model_selection/_validation.py:686: DataConversionWarning: A column-vector y was passed when a 1d array was expected. Please change the shape of y to (n_samples,), for example using ravel().\n",
            "  estimator.fit(X_train, y_train, **fit_params)\n",
            "/usr/local/lib/python3.9/dist-packages/sklearn/model_selection/_validation.py:686: DataConversionWarning: A column-vector y was passed when a 1d array was expected. Please change the shape of y to (n_samples,), for example using ravel().\n",
            "  estimator.fit(X_train, y_train, **fit_params)\n",
            "/usr/local/lib/python3.9/dist-packages/sklearn/model_selection/_validation.py:686: DataConversionWarning: A column-vector y was passed when a 1d array was expected. Please change the shape of y to (n_samples,), for example using ravel().\n",
            "  estimator.fit(X_train, y_train, **fit_params)\n",
            "/usr/local/lib/python3.9/dist-packages/sklearn/model_selection/_validation.py:686: DataConversionWarning: A column-vector y was passed when a 1d array was expected. Please change the shape of y to (n_samples,), for example using ravel().\n",
            "  estimator.fit(X_train, y_train, **fit_params)\n",
            "/usr/local/lib/python3.9/dist-packages/sklearn/model_selection/_validation.py:686: DataConversionWarning: A column-vector y was passed when a 1d array was expected. Please change the shape of y to (n_samples,), for example using ravel().\n",
            "  estimator.fit(X_train, y_train, **fit_params)\n",
            "/usr/local/lib/python3.9/dist-packages/sklearn/model_selection/_validation.py:686: DataConversionWarning: A column-vector y was passed when a 1d array was expected. Please change the shape of y to (n_samples,), for example using ravel().\n",
            "  estimator.fit(X_train, y_train, **fit_params)\n",
            "/usr/local/lib/python3.9/dist-packages/sklearn/model_selection/_validation.py:686: DataConversionWarning: A column-vector y was passed when a 1d array was expected. Please change the shape of y to (n_samples,), for example using ravel().\n",
            "  estimator.fit(X_train, y_train, **fit_params)\n",
            "/usr/local/lib/python3.9/dist-packages/sklearn/model_selection/_validation.py:686: DataConversionWarning: A column-vector y was passed when a 1d array was expected. Please change the shape of y to (n_samples,), for example using ravel().\n",
            "  estimator.fit(X_train, y_train, **fit_params)\n",
            "/usr/local/lib/python3.9/dist-packages/sklearn/model_selection/_validation.py:686: DataConversionWarning: A column-vector y was passed when a 1d array was expected. Please change the shape of y to (n_samples,), for example using ravel().\n",
            "  estimator.fit(X_train, y_train, **fit_params)\n",
            "/usr/local/lib/python3.9/dist-packages/sklearn/model_selection/_validation.py:686: DataConversionWarning: A column-vector y was passed when a 1d array was expected. Please change the shape of y to (n_samples,), for example using ravel().\n",
            "  estimator.fit(X_train, y_train, **fit_params)\n",
            "/usr/local/lib/python3.9/dist-packages/sklearn/model_selection/_validation.py:686: DataConversionWarning: A column-vector y was passed when a 1d array was expected. Please change the shape of y to (n_samples,), for example using ravel().\n",
            "  estimator.fit(X_train, y_train, **fit_params)\n",
            "/usr/local/lib/python3.9/dist-packages/sklearn/model_selection/_validation.py:686: DataConversionWarning: A column-vector y was passed when a 1d array was expected. Please change the shape of y to (n_samples,), for example using ravel().\n",
            "  estimator.fit(X_train, y_train, **fit_params)\n",
            "/usr/local/lib/python3.9/dist-packages/sklearn/model_selection/_validation.py:686: DataConversionWarning: A column-vector y was passed when a 1d array was expected. Please change the shape of y to (n_samples,), for example using ravel().\n",
            "  estimator.fit(X_train, y_train, **fit_params)\n",
            "/usr/local/lib/python3.9/dist-packages/sklearn/model_selection/_validation.py:686: DataConversionWarning: A column-vector y was passed when a 1d array was expected. Please change the shape of y to (n_samples,), for example using ravel().\n",
            "  estimator.fit(X_train, y_train, **fit_params)\n",
            "/usr/local/lib/python3.9/dist-packages/sklearn/model_selection/_validation.py:686: DataConversionWarning: A column-vector y was passed when a 1d array was expected. Please change the shape of y to (n_samples,), for example using ravel().\n",
            "  estimator.fit(X_train, y_train, **fit_params)\n",
            "/usr/local/lib/python3.9/dist-packages/sklearn/model_selection/_validation.py:686: DataConversionWarning: A column-vector y was passed when a 1d array was expected. Please change the shape of y to (n_samples,), for example using ravel().\n",
            "  estimator.fit(X_train, y_train, **fit_params)\n",
            "/usr/local/lib/python3.9/dist-packages/sklearn/model_selection/_validation.py:686: DataConversionWarning: A column-vector y was passed when a 1d array was expected. Please change the shape of y to (n_samples,), for example using ravel().\n",
            "  estimator.fit(X_train, y_train, **fit_params)\n",
            "/usr/local/lib/python3.9/dist-packages/sklearn/model_selection/_validation.py:686: DataConversionWarning: A column-vector y was passed when a 1d array was expected. Please change the shape of y to (n_samples,), for example using ravel().\n",
            "  estimator.fit(X_train, y_train, **fit_params)\n",
            "/usr/local/lib/python3.9/dist-packages/sklearn/model_selection/_validation.py:686: DataConversionWarning: A column-vector y was passed when a 1d array was expected. Please change the shape of y to (n_samples,), for example using ravel().\n",
            "  estimator.fit(X_train, y_train, **fit_params)\n",
            "/usr/local/lib/python3.9/dist-packages/sklearn/model_selection/_validation.py:686: DataConversionWarning: A column-vector y was passed when a 1d array was expected. Please change the shape of y to (n_samples,), for example using ravel().\n",
            "  estimator.fit(X_train, y_train, **fit_params)\n",
            "/usr/local/lib/python3.9/dist-packages/sklearn/model_selection/_validation.py:686: DataConversionWarning: A column-vector y was passed when a 1d array was expected. Please change the shape of y to (n_samples,), for example using ravel().\n",
            "  estimator.fit(X_train, y_train, **fit_params)\n",
            "/usr/local/lib/python3.9/dist-packages/sklearn/model_selection/_validation.py:686: DataConversionWarning: A column-vector y was passed when a 1d array was expected. Please change the shape of y to (n_samples,), for example using ravel().\n",
            "  estimator.fit(X_train, y_train, **fit_params)\n",
            "/usr/local/lib/python3.9/dist-packages/sklearn/model_selection/_validation.py:686: DataConversionWarning: A column-vector y was passed when a 1d array was expected. Please change the shape of y to (n_samples,), for example using ravel().\n",
            "  estimator.fit(X_train, y_train, **fit_params)\n",
            "/usr/local/lib/python3.9/dist-packages/sklearn/model_selection/_validation.py:686: DataConversionWarning: A column-vector y was passed when a 1d array was expected. Please change the shape of y to (n_samples,), for example using ravel().\n",
            "  estimator.fit(X_train, y_train, **fit_params)\n",
            "/usr/local/lib/python3.9/dist-packages/sklearn/model_selection/_validation.py:686: DataConversionWarning: A column-vector y was passed when a 1d array was expected. Please change the shape of y to (n_samples,), for example using ravel().\n",
            "  estimator.fit(X_train, y_train, **fit_params)\n",
            "/usr/local/lib/python3.9/dist-packages/sklearn/model_selection/_validation.py:686: DataConversionWarning: A column-vector y was passed when a 1d array was expected. Please change the shape of y to (n_samples,), for example using ravel().\n",
            "  estimator.fit(X_train, y_train, **fit_params)\n",
            "/usr/local/lib/python3.9/dist-packages/sklearn/model_selection/_validation.py:686: DataConversionWarning: A column-vector y was passed when a 1d array was expected. Please change the shape of y to (n_samples,), for example using ravel().\n",
            "  estimator.fit(X_train, y_train, **fit_params)\n",
            "/usr/local/lib/python3.9/dist-packages/sklearn/model_selection/_validation.py:686: DataConversionWarning: A column-vector y was passed when a 1d array was expected. Please change the shape of y to (n_samples,), for example using ravel().\n",
            "  estimator.fit(X_train, y_train, **fit_params)\n",
            "/usr/local/lib/python3.9/dist-packages/sklearn/model_selection/_validation.py:686: DataConversionWarning: A column-vector y was passed when a 1d array was expected. Please change the shape of y to (n_samples,), for example using ravel().\n",
            "  estimator.fit(X_train, y_train, **fit_params)\n",
            "/usr/local/lib/python3.9/dist-packages/sklearn/model_selection/_validation.py:686: DataConversionWarning: A column-vector y was passed when a 1d array was expected. Please change the shape of y to (n_samples,), for example using ravel().\n",
            "  estimator.fit(X_train, y_train, **fit_params)\n",
            "/usr/local/lib/python3.9/dist-packages/sklearn/model_selection/_validation.py:686: DataConversionWarning: A column-vector y was passed when a 1d array was expected. Please change the shape of y to (n_samples,), for example using ravel().\n",
            "  estimator.fit(X_train, y_train, **fit_params)\n",
            "/usr/local/lib/python3.9/dist-packages/sklearn/model_selection/_validation.py:686: DataConversionWarning: A column-vector y was passed when a 1d array was expected. Please change the shape of y to (n_samples,), for example using ravel().\n",
            "  estimator.fit(X_train, y_train, **fit_params)\n",
            "/usr/local/lib/python3.9/dist-packages/sklearn/model_selection/_validation.py:686: DataConversionWarning: A column-vector y was passed when a 1d array was expected. Please change the shape of y to (n_samples,), for example using ravel().\n",
            "  estimator.fit(X_train, y_train, **fit_params)\n",
            "/usr/local/lib/python3.9/dist-packages/sklearn/model_selection/_validation.py:686: DataConversionWarning: A column-vector y was passed when a 1d array was expected. Please change the shape of y to (n_samples,), for example using ravel().\n",
            "  estimator.fit(X_train, y_train, **fit_params)\n",
            "/usr/local/lib/python3.9/dist-packages/sklearn/model_selection/_validation.py:686: DataConversionWarning: A column-vector y was passed when a 1d array was expected. Please change the shape of y to (n_samples,), for example using ravel().\n",
            "  estimator.fit(X_train, y_train, **fit_params)\n",
            "/usr/local/lib/python3.9/dist-packages/sklearn/model_selection/_validation.py:686: DataConversionWarning: A column-vector y was passed when a 1d array was expected. Please change the shape of y to (n_samples,), for example using ravel().\n",
            "  estimator.fit(X_train, y_train, **fit_params)\n",
            "/usr/local/lib/python3.9/dist-packages/sklearn/model_selection/_search.py:909: DataConversionWarning: A column-vector y was passed when a 1d array was expected. Please change the shape of y to (n_samples,), for example using ravel().\n",
            "  self.best_estimator_.fit(X, y, **fit_params)\n",
            "/usr/local/lib/python3.9/dist-packages/pandas/core/algorithms.py:798: FutureWarning: In a future version, the Index constructor will not infer numeric dtypes when passed object-dtype sequences (matching Series behavior)\n",
            "  uniques = Index(uniques)\n"
          ]
        },
        {
          "output_type": "display_data",
          "data": {
            "text/plain": [
              "<Figure size 640x480 with 2 Axes>"
            ],
            "image/png": "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\n"
          },
          "metadata": {}
        }
      ]
    },
    {
      "cell_type": "markdown",
      "source": [
        "#4. Analysis\n",
        "\n",
        "What did you discover? What insights/recommendations do you have? What did you find that was interesting? Which model was your best model, which models didn't work well? Why do you think this is? In general, I want a discussion of your experiment, the results, and what they mean.\n",
        "\n",
        "This chart might help organize your results:\n",
        "\n",
        "| **Model**     | **Non-Normalized** | **Normalized** | **Parameter Tuned** |\n",
        "|---------------|--------------------|----------------|---------------------|\n",
        "| kNN           |                    |                |                     |\n",
        "| w-kNN         |                    |                |                     |\n",
        "| decision tree |                    |                |                     |\n",
        "| random forest |                    |                |                     |"
      ],
      "metadata": {
        "id": "3n4WI2CiTbSC"
      }
    },
    {
      "cell_type": "markdown",
      "source": [
        "*your answer here*"
      ],
      "metadata": {
        "id": "6-hRqIl9KL9L"
      }
    },
    {
      "cell_type": "markdown",
      "source": [
        "# 5. Bumps in the Road\n",
        "What challenges did you encounter? How did you overcome these challenges?"
      ],
      "metadata": {
        "id": "sQYL8y5UKO9G"
      }
    },
    {
      "cell_type": "markdown",
      "source": [
        "\n",
        "\n",
        "1.   One major challenge that I had was picking a dataset to work with because I was interested in different topics. I ended up choosing the student alcohol consumption dataset because there is an increase in alcohol consumption in my home country so....\n",
        "2.   List item\n",
        "\n"
      ],
      "metadata": {
        "id": "4XPFALubKQPZ"
      }
    }
  ]
}
