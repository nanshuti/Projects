{
  "nbformat": 4,
  "nbformat_minor": 0,
  "metadata": {
    "colab": {
      "provenance": [],
      "include_colab_link": true
    },
    "kernelspec": {
      "name": "python3",
      "display_name": "Python 3"
    },
    "language_info": {
      "name": "python"
    }
  },
  "cells": [
    {
      "cell_type": "markdown",
      "metadata": {
        "id": "view-in-github",
        "colab_type": "text"
      },
      "source": [
        "<a href=\"https://colab.research.google.com/github/nanshuti/Projects/blob/Main/Markovechaincode.ipynb\" target=\"_parent\"><img src=\"https://colab.research.google.com/assets/colab-badge.svg\" alt=\"Open In Colab\"/></a>"
      ]
    },
    {
      "cell_type": "code",
      "execution_count": null,
      "metadata": {
        "id": "UU5YkUI4x5XN"
      },
      "outputs": [],
      "source": [
        "from google.colab import drive\n",
        "import pandas\n",
        "import numpy as np\n",
        "import random\n",
        "init_normal_weight = 0.95 # Lekelyhood of normal operation expressed as a percentage\n",
        "\n",
        "class Turbine:\n",
        "  def __init__(self, state, schedule):\n",
        "    init_fail_weight = (1-init_normal_weight)/5 # Lekelyhood of failure expressed as a percentage (split over 5 different kinds of failures)\n",
        "    self.transition_matrix = [[init_normal_weight,init_fail_weight,init_fail_weight,init_fail_weight,init_fail_weight,init_fail_weight], # Transition array when the turbine has behaved normally\n",
        "                              [1,0,0,0,0,0], # Transition arrays for when the turbine has failed, split over each kind of failure:\n",
        "                              [1,0,0,0,0,0],\n",
        "                              [1,0,0,0,0,0], # These values can be tweaked to show the differences in\n",
        "                              [1,0,0,0,0,0],\n",
        "                              [1,0,0,0,0,0]]\n",
        "    self.schedule = schedule # Turbine's maintenance schedule\n",
        "    self.state = state # Turbine's current state\n",
        "    self.time_since_maintenance= 0 # Turbine's time since last maintenance. Unit: months\n",
        "  def update_matrix(self):\n",
        "    if self.state == \"Normal\": # If turbine is operating normally:\n",
        "      self.time_since_maintenance += 1 # Number of months since last maintenance\n",
        "      self.new_norm_weight = init_normal_weight-(self.time_since_maintenance*0.1) # Makes it more likely for turbine to fail by 10% after each month since last maintenance\n",
        "      self.new_fail_weight = (1-self.new_norm_weight)/5 # Splits likelyhood of failure over the 5 possible fail states\n",
        "      self.transition_matrix = [[self.new_norm_weight,self.new_fail_weight,self.new_fail_weight,self.new_fail_weight,self.new_fail_weight,self.new_fail_weight], # New transition state when turbine has behaved normally\n",
        "                              [1,0,0,0,0,0],\n",
        "                              [1,0,0,0,0,0],\n",
        "                              [1,0,0,0,0,0],\n",
        "                              [1,0,0,0,0,0],\n",
        "                              [1,0,0,0,0,0]]\n",
        "      return self.transition_matrix\n",
        "    else: # If turbine has just been maintained:\n",
        "      self.time_since_maintenance = 0\n",
        "      init_fail_weight = (1-init_normal_weight)/5 # Splits likelyhood of failure over the 5 possible fail states\n",
        "      self.transition_matrix = [[init_normal_weight,init_fail_weight,init_fail_weight,init_fail_weight,init_fail_weight,init_fail_weight], # Sets likelyhood percentages to initial values\n",
        "                              [1,0,0,0,0,0],\n",
        "                              [1,0,0,0,0,0],\n",
        "                              [1,0,0,0,0,0],\n",
        "                              [1,0,0,0,0,0],\n",
        "                              [1,0,0,0,0,0]]\n",
        "      return self.transition_matrix\n",
        "  def get_state(self): # Returns current state\n",
        "    return self.state\n",
        "  def change_state(self, state): # Changes current state\n",
        "    self.state = state\n",
        "  def get_schedule(self): # Returns turbine's maintenance schedule\n",
        "    return self.schedule\n",
        "  def do_maintenance(self): # Updates time tince last maintenance to now\n",
        "    self.time_since_maintenance = 0\n",
        "\n",
        "\n",
        "scheduled_cost = 1000      # Cost of scheduled maintenance\n",
        "turbine_constant = 700     # Turbine constant that relates wind speed to power generated\n",
        "# Fault code categories: Gearbox, Balance of Plant, Electrical, Generator.\n",
        "# Fault code impact categories from the highest to the lowest : Gearbox, Balance of plant, Electrical, Generator. Maintenance cost, Inactive cost.\n",
        "states = ['Normal', 'Inactive', 'Generator_fault', 'Electrical_fault', 'Balance_of_plant_fault', 'Gearbox_fault']\n",
        "needed_time = [0, 140, 140, 140, 140, 140, 140] # Required time to fix each kind of fail state\n",
        "P = []                                          # Define an empty matrix to hold the transition probabilities\n",
        "\n",
        "# Costs for each kind of fail state:\n",
        "# These values are ballpark values for now. Unit: Million per megawatt (MW)\n",
        "Inactive_cost = 10000\n",
        "Generator_fault_cost = 50000\n",
        "Electrical_fault_cost = 50000\n",
        "Balance_of_plant_fault_cost = 50000\n",
        "Gearbox_fault_cost = 10000\n",
        "\n",
        "initial_state = states.index('Normal') # Initial state for all turbines\n",
        "time_horizon = 120  # Total simulation time. Unit: Months\n",
        "\n",
        "wind_speed = [5.32,5.36,5.59,5.54,4.87,4.25,3.75,3.67,4.34,4.83,5.05,5.05] # Average monthly wind speed. Unit: Meters per second\n",
        "average_pay = 6250 # Average pay for maintenance workers. Unit: Dollars per month\n",
        "\n",
        "# Define the maintenance schedule for the 20 turbines:\n",
        "# Individual preplanned maintenance\n",
        "schedules = [[0,0,0,0,0,0,0,0,0,0,0,0,0,0,0,0,0,0,0,0,0,0,0,0]]\n",
        "for i in range(24):\n",
        "  schedule = []\n",
        "  for j in range(24):\n",
        "    if j%(i+1) == 0:\n",
        "      schedule.append(1)\n",
        "    else:\n",
        "      schedule.append(0)\n",
        "  schedules.append(schedule)\n",
        "\n",
        "# Simulate the Markov chain model to calculate the expected total cost\n",
        "total_cost = 0\n",
        "state = initial_state # Starting point of markov chain\n",
        "locational_marginal_pricing_data = [0.000136,0.000138,0.000138,0.000138,0.000141,0.00015,0.000152,0.000152,0.000152,0.000145,0.000144,0.000146] # Values are estimates. Unit: Cents per watt-hour\n",
        "total_costs = []\n",
        "for schedule in schedules: # Loops interates over the schedules being tested\n",
        "  total_cost = 0\n",
        "  for turbine_number in range(1000): # Loops over any set number of turbines (currently 1000)\n",
        "    turb = Turbine(\"Normal\", schedule)\n",
        "    for t in range(time_horizon): # Simulates a 10 year period of operation (120 months)\n",
        "      # Calculate the expected revenue based on the historical locational marginal pricing data and wind speeds\n",
        "      expected_revenue = turbine_constant*(wind_speed[t%12]**3) * locational_marginal_pricing_data[t%12] * 730  # Hours in a month\n",
        "\n",
        "      # Scheduled maintenance cost:\n",
        "      maintenance_cost = 0\n",
        "      if turb.get_schedule()[t%24] == 1:\n",
        "        turb.do_maintenance()\n",
        "        maintenance_cost = scheduled_cost + (turbine_constant*(wind_speed[t%12]**3) * locational_marginal_pricing_data[t%12] * 120)\n",
        "\n",
        "      # Update the transition matrix based off of the current state:\n",
        "      P = turb.update_matrix()\n",
        "\n",
        "      # Update the state based on the transition matrix:\n",
        "      state = random.choices([*range(len(states))], P[0])[0]\n",
        "      turb.change_state(states[state])\n",
        "\n",
        "      # Calculate the cost of any failure:\n",
        "      if state == states.index('Inactive'):\n",
        "          maintenance_cost += 0\n",
        "      elif state == states.index('Generator_fault'):\n",
        "          maintenance_cost += Generator_fault_cost\n",
        "      elif state == states.index('Electrical_fault'):\n",
        "          maintenance_cost += Electrical_fault_cost\n",
        "      elif state == states.index('Balance_of_plant_fault'):\n",
        "          maintenance_cost += Balance_of_plant_fault_cost\n",
        "      elif state == states.index('Gearbox_fault'):\n",
        "         maintenance_cost += Gearbox_fault_cost\n",
        "\n",
        "      # Add cost of lost time:\n",
        "      cost = maintenance_cost + (turbine_constant*(wind_speed[t%12]**3) * locational_marginal_pricing_data[t%12] * needed_time[state]) - expected_revenue\n",
        "      total_cost += cost\n",
        "\n",
        "  total_costs.append(-total_cost) #'Expected total cost: ${:,.2f}'.format(total_cost)\n"
      ]
    },
    {
      "cell_type": "code",
      "source": [
        "print(total_costs)"
      ],
      "metadata": {
        "id": "6Depi163RE4G",
        "outputId": "4295f008-1b8f-4989-9766-6b3706b6a84d",
        "colab": {
          "base_uri": "https://localhost:8080/"
        }
      },
      "execution_count": null,
      "outputs": [
        {
          "output_type": "stream",
          "name": "stdout",
          "text": [
            "[38971904.148268074, 173981141.3021555, 195288973.67836353, 147345752.69402435, 103763674.20572135, 83924576.72229712, 79078405.24513474, 77478990.6356142, 61256966.09646126, 72419076.01195614, 68450139.31784657, 71043743.27117296, 50069253.995339595, 46036583.37623396, 45974960.645492956, 46829997.99587541, 51889346.52702198, 53834535.49223085, 57388620.34605155, 53274791.75336781, 60932463.781363435, 61332775.1209635, 55786335.44901402, 48574129.55493352, 43713957.85178749]\n"
          ]
        }
      ]
    },
    {
      "cell_type": "code",
      "source": [
        "#Generate plot of data\n",
        "import matplotlib.pyplot as plt\n",
        "xvals = range(0, 25)\n",
        "profit = total_costs\n",
        "for x in xvals:\n",
        "  profit[x] = profit[x]/1000\n",
        "plt.suptitle('Average Profit per Turbine Over 10 years As a Function of Maintenance Frequency',fontsize=18)\n",
        "plt.xlabel('Months between scheduled Maintenances')\n",
        "plt.ylabel('profit')\n",
        "plt.plot(xvals, profit,'ro-',label='Profit')\n",
        "plt.legend(loc='lower right', shadow=True)\n",
        "plt.axis([0, 25, 0, 225000])\n",
        "plt.show()"
      ],
      "metadata": {
        "colab": {
          "base_uri": "https://localhost:8080/",
          "height": 497
        },
        "id": "dotxrJw9MdfG",
        "outputId": "3a772e39-1e7f-44c5-8699-fdc92decbfcd"
      },
      "execution_count": null,
      "outputs": [
        {
          "output_type": "display_data",
          "data": {
            "text/plain": [
              "<Figure size 640x480 with 1 Axes>"
            ],
            "image/png": "[encoded data removed]"
          },
          "metadata": {}
        }
      ]
    },
    {
      "cell_type": "code",
      "source": [
        "\n",
        "# Python3 code to demonstrate working of\n",
        "# Get values of particular key in list of dictionaries\n",
        "# Using map() + itemgetter()\n",
        "from operator import itemgetter\n",
        "\n",
        "# initializing list\n",
        "test_list = [{'ab' : 2, 'ba' : 3},\n",
        "            {'ab' : 1}, {'ab' : 4}]\n",
        "# printing original list\n",
        "print(\"The original list is : \" + str(test_list))\n",
        "\n",
        "# Using map() + itemgetter()\n",
        "# Get values of particular key in list of dictionaries\n",
        "res = list(map(itemgetter('ab'), test_list))\n",
        "\n",
        "# printing result\n",
        "print(\"The values corresponding to key : \" + str(res))"
      ],
      "metadata": {
        "colab": {
          "base_uri": "https://localhost:8080/"
        },
        "id": "2FbPTMsCWA2k",
        "outputId": "03d407ef-7692-498d-a378-2f754401951f"
      },
      "execution_count": null,
      "outputs": [
        {
          "output_type": "stream",
          "name": "stdout",
          "text": [
            "The original list is : [{'ab': 2, 'ba': 3}, {'ab': 1}, {'ab': 4}]\n",
            "The values corresponding to key : [2, 1, 4]\n"
          ]
        }
      ]
    },
    {
      "cell_type": "code",
      "source": [
        "\n",
        "# Python3 code to demonstrate working of\n",
        "# Get values of particular key in list of dictionaries\n",
        "# Using map() + itemgetter()\n",
        "from operator import itemgetter\n",
        "\n",
        "# initializing list\n",
        "test_list = [{'gfg' : 1, 'is' : 2, 'good' : 3},\n",
        "             {'gfg' : 2}, {'best' : 3, 'gfg' : 4}]\n",
        "\n",
        "# printing original list\n",
        "print(\"The original list is : \" + str(test_list))\n",
        "\n",
        "# Using map() + itemgetter()\n",
        "# Get values of particular key in list of dictionaries\n",
        "res = list(map(itemgetter('gfg'), test_list))\n",
        "\n",
        "# printing result\n",
        "print(\"The values corresponding to key : \" + str(res))"
      ],
      "metadata": {
        "colab": {
          "base_uri": "https://localhost:8080/"
        },
        "id": "IfTgv9xRXFeC",
        "outputId": "146a12c5-9dee-4a31-df65-dda182f399e8"
      },
      "execution_count": null,
      "outputs": [
        {
          "output_type": "stream",
          "name": "stdout",
          "text": [
            "The original list is : [{'gfg': 1, 'is': 2, 'good': 3}, {'gfg': 2}, {'best': 3, 'gfg': 4}]\n",
            "The values corresponding to key : [1, 2, 4]\n"
          ]
        }
      ]
    },
    {
      "cell_type": "code",
      "source": [
        "init_normal_weight = 0.8\n",
        "\n",
        "class Turbine:\n",
        "  def __init__(self, state):\n",
        "    init_fail_weight = (1-init_normal_weight)/5\n",
        "    self.transition_matrix = [[init_normal_weight,init_fail_weight,init_fail_weight,init_fail_weight,init_fail_weight,init_fail_weight],\n",
        "                              [1,0,0,0,0,0],\n",
        "                              [1,0,0,0,0,0],\n",
        "                              [1,0,0,0,0,0],\n",
        "                              [1,0,0,0,0,0],\n",
        "                              [1,0,0,0,0,0]]\n",
        "    self.schedule = [0,0,0,0,0,0,0,0,0,0,0,0]\n",
        "    self.state = state\n",
        "    self.time_since_maintenance= 0\n",
        "  def update_matrix(self):\n",
        "    if self.state == \"normal\":\n",
        "      self.time_since_maintenance += 1\n",
        "      self.new_norm_weight = init_normal_weight-(self.time_since_maintenance*0.1)\n",
        "      self.new_fail_weight = (1-self.new_norm_weight)/5\n",
        "      self.transition_matrix = [[self.new_norm_weight,self.new_fail_weight,self.new_fail_weight,self.new_fail_weight,self.new_fail_weight,self.new_fail_weight],\n",
        "                              [1,0,0,0,0,0],\n",
        "                              [1,0,0,0,0,0],\n",
        "                              [1,0,0,0,0,0],\n",
        "                              [1,0,0,0,0,0],\n",
        "                              [1,0,0,0,0,0]]\n",
        "      return self.transition_matrix\n",
        "    else:\n",
        "      self.time_since_maintenance = 0\n",
        "      self.transition_matrix = [[1,0,0,0,0,0],\n",
        "                              [1,0,0,0,0,0],\n",
        "                              [1,0,0,0,0,0],\n",
        "                              [1,0,0,0,0,0],\n",
        "                              [1,0,0,0,0,0],\n",
        "                              [1,0,0,0,0,0]]\n",
        "      return self.transition_matrix\n",
        "  def get_state(self):\n",
        "    return self.state\n",
        "\n",
        "  def get_schedule(self):\n",
        "    return self.schedule\n",
        "  def update_schedule(self, schedule):\n",
        "    self.schedule = schedule\n",
        "\n"
      ],
      "metadata": {
        "id": "8bgiOByy9O16"
      },
      "execution_count": null,
      "outputs": []
    },
    {
      "cell_type": "code",
      "source": [],
      "metadata": {
        "id": "KMdGsRqwMZ9p"
      },
      "execution_count": null,
      "outputs": []
    },
    {
      "cell_type": "code",
      "source": [
        "for i in range(4096):\n",
        "  binary = format(i, \"b\")\n",
        "  plan = [*binary]\n",
        "  schedule = [int(j) for j in plan]\n",
        "  while len(schedule) < 12:\n",
        "    schedule = [0] + schedule\n",
        "  schedules.append(schedule)"
      ],
      "metadata": {
        "id": "4B8lDprU8vPd"
      },
      "execution_count": null,
      "outputs": []
    },
    {
      "cell_type": "markdown",
      "source": [
        "things that need to be done:\n",
        "1) create function to update transition matrix based on data\n",
        "2) create for loop to loop through different maintenance schedules to compare\n",
        "4) put above values in nice graph\n",
        "3) determine turbine_const\n",
        "5) determine marginal price values(function of time)\n",
        "6) potentitally add other metrics\n",
        "\n",
        "\n",
        "Important Sources:\n",
        "Equation for power: https://thundersaidenergy.com/downloads/wind-power-impacts-of-larger-turbines/#:~:text=The%20best%20overall%20formula%20for,(in%20meters%20per%20second).\n",
        "\n",
        "Wind speed in Iowa per month: https://weatherspark.com/y/10312/Average-Weather-in-Des-Moines-Iowa-United-States-Year-Round\n",
        "\n",
        "\n"
      ],
      "metadata": {
        "id": "IdbXe13V86Cd"
      }
    },
    {
      "cell_type": "markdown",
      "source": [
        "updated things that need to be done:\n",
        "\n",
        "1) make costs of failures a function of time with reasonable dollar cost estimates\n",
        "\n",
        "2) update transition matricies to have reasonable values in accordance with the data\n",
        "\n",
        "3) put another for loop for time to run a multi year timeframe\n",
        "\n",
        "4) put another loop to loop through differenct maininance strategies for the turbines, this is the outer loop and will need associated graphs\n",
        "\n",
        "5) poster idk\n",
        "\n",
        "6) Have fun! :)\n",
        "\n",
        "7) Synergize"
      ],
      "metadata": {
        "id": "d6jvESwvEBao"
      }
    }
  ]
}